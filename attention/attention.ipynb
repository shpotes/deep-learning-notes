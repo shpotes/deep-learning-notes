{
 "cells": [
  {
   "cell_type": "code",
   "execution_count": 1,
   "metadata": {},
   "outputs": [],
   "source": [
    "import torch, math, sys\n",
    "\n",
    "from tqdm import trange\n",
    "from torch import nn\n",
    "from torch.nn import functional as F\n",
    "import matplotlib.pyplot as plt\n",
    "\n",
    "from utils import data"
   ]
  },
  {
   "cell_type": "code",
   "execution_count": 2,
   "metadata": {},
   "outputs": [
    {
     "data": {
      "text/plain": [
       "<torch._C.Generator at 0x7f9b2edd4f50>"
      ]
     },
     "execution_count": 2,
     "metadata": {},
     "output_type": "execute_result"
    }
   ],
   "source": [
    "if torch.cuda.is_available():\n",
    "    device = torch.device('cuda')\n",
    "    torch.backends.cudnn.benchmark = True\n",
    "else:\n",
    "    device = torch.device('cpu')\n",
    "\n",
    "torch.manual_seed(1)"
   ]
  },
  {
   "cell_type": "code",
   "execution_count": 3,
   "metadata": {},
   "outputs": [],
   "source": [
    "train_input, train_targets, train_tr, train_bx = data.generate_sequences(25000, 100)\n",
    "test_input, test_targets, test_tr, test_bx = data.generate_sequences(1000, 100)"
   ]
  },
  {
   "cell_type": "code",
   "execution_count": 4,
   "metadata": {},
   "outputs": [
    {
     "data": {
      "image/png": "[encoded data removed]",
      "text/plain": [
       "<Figure size 432x288 with 1 Axes>"
      ]
     },
     "metadata": {
      "needs_background": "light"
     },
     "output_type": "display_data"
    }
   ],
   "source": [
    "k = 2\n",
    "data.plot_sequence_images([(train_input[k, 0], 'blue', 'Input'),\n",
    "                           (train_targets[k, 0], 'orange', 'Target')])"
   ]
  },
  {
   "cell_type": "code",
   "execution_count": 7,
   "metadata": {},
   "outputs": [
    {
     "data": {
      "text/plain": [
       "Sequential(\n",
       "  (0): Conv1d(1, 64, kernel_size=(5,), stride=(1,), padding=(2,))\n",
       "  (1): ReLU()\n",
       "  (2): Conv1d(64, 64, kernel_size=(5,), stride=(1,), padding=(2,))\n",
       "  (3): ReLU()\n",
       "  (4): Conv1d(64, 64, kernel_size=(5,), stride=(1,), padding=(2,))\n",
       "  (5): ReLU()\n",
       "  (6): Conv1d(64, 64, kernel_size=(5,), stride=(1,), padding=(2,))\n",
       "  (7): ReLU()\n",
       "  (8): Conv1d(64, 1, kernel_size=(5,), stride=(1,), padding=(2,))\n",
       ")"
      ]
     },
     "execution_count": 7,
     "metadata": {},
     "output_type": "execute_result"
    }
   ],
   "source": [
    "in_channels = 1\n",
    "\n",
    "model = nn.Sequential(\n",
    "    nn.Conv1d(in_channels, 64, kernel_size = 5, padding = 5//2),\n",
    "    nn.ReLU(),\n",
    "    nn.Conv1d(64, 64, kernel_size = 5, padding = 5//2),\n",
    "    nn.ReLU(),\n",
    "    nn.Conv1d(64, 64, kernel_size = 5, padding = 5//2),\n",
    "    nn.ReLU(),\n",
    "    nn.Conv1d(64, 64, kernel_size = 5, padding = 5//2),\n",
    "    nn.ReLU(),\n",
    "    nn.Conv1d(64,  1, kernel_size = 5, padding = 5//2)\n",
    ")\n",
    "model"
   ]
  },
  {
   "cell_type": "code",
   "execution_count": 9,
   "metadata": {},
   "outputs": [
    {
     "data": {
      "text/plain": [
       "62337"
      ]
     },
     "execution_count": 9,
     "metadata": {},
     "output_type": "execute_result"
    }
   ],
   "source": [
    "nb_parameters = sum(p.numel() for p in model.parameters())\n",
    "nb_parameters"
   ]
  },
  {
   "cell_type": "code",
   "execution_count": 10,
   "metadata": {},
   "outputs": [],
   "source": [
    "batch_size = 100\n",
    "nb_epochs = 250\n",
    "\n",
    "optimizer = torch.optim.Adam(model.parameters(), lr = 1e-3)\n",
    "mse_loss = nn.MSELoss()"
   ]
  },
  {
   "cell_type": "code",
   "execution_count": 11,
   "metadata": {},
   "outputs": [],
   "source": [
    "model.to(device)\n",
    "mse_loss.to(device)\n",
    "train_input, train_targets = train_input.to(device), train_targets.to(device)\n",
    "test_input, test_targets = test_input.to(device), test_targets.to(device)"
   ]
  },
  {
   "cell_type": "code",
   "execution_count": null,
   "metadata": {},
   "outputs": [],
   "source": [
    "mu, std = train_input.mean(), train_input.std()\n",
    "\n",
    "epochs = trange(50)\n",
    "for e in epochs:\n",
    "    acc_loss = 0.0\n",
    "    \n",
    "    for input, targets in zip(train_input.split(batch_size),\n",
    "                              train_targets.split(batch_size)):\n",
    "\n",
    "        input = torch.cat((input, positional_input.expand(input.size(0), -1, -1)), 1)\n",
    "\n",
    "        output = model((input - mu) / std)\n",
    "        loss = mse_loss(output, targets)\n",
    "\n",
    "        optimizer.zero_grad()\n",
    "        loss.backward()\n",
    "        optimizer.step()\n",
    "\n",
    "        acc_loss += loss.item()\n",
    "\n",
    "    epochs.set_description(f'{e+1} {acc_loss}')\n",
    "    epochs.refresh()"
   ]
  },
  {
   "cell_type": "code",
   "execution_count": 14,
   "metadata": {},
   "outputs": [],
   "source": [
    "class AttentionLayer(nn.Module):\n",
    "    def __init__(self, in_channels, out_channels, key_channels):\n",
    "        super(AttentionLayer, self).__init__()\n",
    "        self.conv_Q = nn.Conv1d(in_channels, key_channels, kernel_size = 1, bias = False)\n",
    "        self.conv_K = nn.Conv1d(in_channels, key_channels, kernel_size = 1, bias = False)\n",
    "        self.conv_V = nn.Conv1d(in_channels, out_channels, kernel_size = 1, bias = False)\n",
    "\n",
    "    def forward(self, x):\n",
    "        Q = self.conv_Q(x)\n",
    "        K = self.conv_K(x)\n",
    "        V = self.conv_V(x)\n",
    "        A = Q.permute(0, 2, 1).matmul(K).softmax(2)\n",
    "        x = A.matmul(V.permute(0, 2, 1)).permute(0, 2, 1)\n",
    "        return x\n",
    "\n",
    "    def __repr__(self):\n",
    "        return self._get_name() + \\\n",
    "            '(in_channels={}, out_channels={}, key_channels={})'.format(\n",
    "                self.conv_Q.in_channels,\n",
    "                self.conv_V.out_channels,\n",
    "                self.conv_K.out_channels\n",
    "            )\n",
    "\n",
    "    def attention(self, x):\n",
    "        Q = self.conv_Q(x)\n",
    "        K = self.conv_K(x)\n",
    "        return Q.permute(0, 2, 1).matmul(K).softmax(2)"
   ]
  }
 ],
 "metadata": {
  "kernelspec": {
   "display_name": "Python 3",
   "language": "python",
   "name": "python3"
  },
  "language_info": {
   "codemirror_mode": {
    "name": "ipython",
    "version": 3
   },
   "file_extension": ".py",
   "mimetype": "text/x-python",
   "name": "python",
   "nbconvert_exporter": "python",
   "pygments_lexer": "ipython3",
   "version": "3.7.6"
  }
 },
 "nbformat": 4,
 "nbformat_minor": 4
}
